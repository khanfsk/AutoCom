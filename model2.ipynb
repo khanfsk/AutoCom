{
 "cells": [
  {
   "cell_type": "code",
   "execution_count": null,
   "id": "b8d71841-55d2-4244-8c7f-9e16a356405d",
   "metadata": {},
   "outputs": [],
   "source": [
    "import tensorflow as tf\n",
    "from tensorflow.keras.preprocessing.image import ImageDataGenerator\n",
    "from tensorflow.keras.applications import MobileNetV2\n",
    "from tensorflow.keras.models import Sequential\n",
    "from tensorflow.keras.layers import Dense, GlobalAveragePooling2D\n",
    "from tensorflow.keras.optimizers import Adam\n",
    "import os\n",
    "import matplotlib.pyplot as plt\n"
   ]
  },
  {
   "cell_type": "code",
   "execution_count": null,
   "id": "ae8c585b-961a-41c3-8204-d2050d8abab7",
   "metadata": {},
   "outputs": [],
   "source": [
    "train_dir = '/Users/roshanrajendran/Desktop/ML_proj/driver_detection/imgs/train/'\n",
    "test_dir = '/Users/roshanrajendran/Desktop/ML_proj/driver_detection/imgs/test/'\n"
   ]
  },
  {
   "cell_type": "code",
   "execution_count": null,
   "id": "060b24f0-8151-4b15-ac0f-711ff89bdc76",
   "metadata": {},
   "outputs": [],
   "source": [
    "img_height, img_width = 224, 224\n",
    "batch_size = 32\n",
    "\n",
    "train_datagen = ImageDataGenerator(\n",
    "    rescale=1./255,\n",
    "    shear_range=0.2,\n",
    "    zoom_range=0.2,\n",
    "    horizontal_flip=True,\n",
    "    validation_split=0.2\n",
    ")\n",
    "\n",
    "train_generator = train_datagen.flow_from_directory(\n",
    "    train_dir,\n",
    "    target_size=(img_height, img_width),\n",
    "    batch_size=batch_size,\n",
    "    class_mode='categorical',\n",
    "    subset='training'\n",
    ")\n",
    "\n",
    "validation_generator = train_datagen.flow_from_directory(\n",
    "    train_dir,\n",
    "    target_size=(img_height, img_width),\n",
    "    batch_size=batch_size,\n",
    "    class_mode='categorical',\n",
    "    subset='validation'\n",
    ")\n"
   ]
  },
  {
   "cell_type": "code",
   "execution_count": null,
   "id": "441e375f-b6a8-46df-813a-c4942a8c85a6",
   "metadata": {},
   "outputs": [],
   "source": [
    "base_model = MobileNetV2(input_shape=(img_height, img_width, 3), include_top=False, weights='imagenet')\n",
    "\n",
    "model = Sequential([\n",
    "    base_model,\n",
    "    GlobalAveragePooling2D(),\n",
    "    Dense(10, activation='softmax')\n",
    "])\n",
    "\n",
    "base_model.trainable = False\n"
   ]
  },
  {
   "cell_type": "code",
   "execution_count": null,
   "id": "a4a14295",
   "metadata": {},
   "outputs": [],
   "source": []
  },
  {
   "cell_type": "code",
   "execution_count": null,
   "id": "21b0df11-0da6-4e74-88ae-a197bd315056",
   "metadata": {},
   "outputs": [],
   "source": [
    "model.compile(optimizer=Adam(),\n",
    "              loss='categorical_crossentropy',\n",
    "              metrics=['accuracy'])\n"
   ]
  },
  {
   "cell_type": "code",
   "execution_count": null,
   "id": "6de30805-56bc-4538-a20d-ddd6e38b300a",
   "metadata": {},
   "outputs": [],
   "source": [
    "epochs = 5  # Adjust as needed\n",
    "\n",
    "history = model.fit(\n",
    "    train_generator,\n",
    "    epochs=epochs,\n",
    "    validation_data=validation_generator\n",
    ")\n"
   ]
  },
  {
   "cell_type": "code",
   "execution_count": null,
   "id": "c001c7af-1a8c-455c-8777-3c28a625c49b",
   "metadata": {},
   "outputs": [],
   "source": [
    "acc = history.history['accuracy']\n",
    "val_acc = history.history['val_accuracy']\n",
    "loss = history.history['loss']\n",
    "val_loss = history.history['val_loss']\n",
    "\n",
    "epochs_range = range(epochs)\n",
    "\n",
    "plt.figure(figsize=(8, 8))\n",
    "plt.subplot(1, 2, 1)\n",
    "plt.plot(epochs_range, acc, label='Training Accuracy')\n",
    "plt.plot(epochs_range, val_acc, label='Validation Accuracy')\n",
    "plt.legend(loc='lower right')\n",
    "plt.title('Training and Validation Accuracy')\n",
    "\n",
    "plt.subplot(1, 2, 2)\n",
    "plt.plot(epochs_range, loss, label='Training Loss')\n",
    "plt.plot(epochs_range, val_loss, label='Validation Loss')\n",
    "plt.legend(loc='upper right')\n",
    "plt.title('Training and Validation Loss')\n",
    "plt.show()\n"
   ]
  },
  {
   "cell_type": "code",
   "execution_count": null,
   "id": "f237a065-a7ef-4140-9fe3-1d8ce28208ab",
   "metadata": {},
   "outputs": [],
   "source": [
    "test_loss, test_acc = model.evaluate(validation_generator)\n",
    "print('Test accuracy:', test_acc)"
   ]
  },
  {
   "cell_type": "code",
   "execution_count": null,
   "id": "a7925218-31be-4d3d-be82-845b23f67659",
   "metadata": {},
   "outputs": [],
   "source": []
  },
  {
   "cell_type": "code",
   "execution_count": null,
   "id": "369f8d76-2b6d-4aa6-aa82-3034283b6a9a",
   "metadata": {},
   "outputs": [],
   "source": [
    "from tensorflow.keras.preprocessing import image\n",
    "from tensorflow.image import resize\n",
    "import numpy as np\n",
    "\n",
    "def predict_class(img_path):\n",
    "    img = image.load_img(img_path, target_size=(img_height, img_width))\n",
    "    plt.imshow(img)\n",
    "    plt.show()\n",
    "    resized_img = resize(img, (img_height, img_width))\n",
    "    X = image.img_to_array(resized_img)\n",
    "    X = np.expand_dims(X, axis=0)\n",
    "    val = model.predict(X)\n",
    "    predicted_class = np.argmin(val)  # Index of class with highest probability\n",
    "    return predicted_class\n",
    "\n",
    "\n",
    "image_dir = \"/Users/roshanrajendran/Desktop/ML_proj/driver_detection/imgs/train\"\n",
    "\n",
    "# Iterate over subdirectories (assuming class names are in subdirectories)\n",
    "for class_dir in os.listdir(image_dir):\n",
    "    class_path = os.path.join(image_dir, class_dir)\n",
    "    if os.path.isdir(class_path):  # Check if it's a directory\n",
    "        # Get the first image in the class directory (assuming one image per class)\n",
    "        img_path = os.path.join(class_path, os.listdir(class_path)[3])\n",
    "        predicted_class = predict_class(img_path)\n",
    "\n",
    "        if class_dir == 'c0':\n",
    "            class_label = \"Safe\"\n",
    "        else:\n",
    "            class_label = \"Unsafe\"\n",
    "        #class_label = \"Safe driver\" if predicted_class == 0 else \"Unsafe driver\"\n",
    "        print(f\"Image from '{class_dir}': Predicted class - {class_label}\")\n",
    "\n"
   ]
  },
  {
   "cell_type": "code",
   "execution_count": null,
   "id": "7d9ac09b-2832-4c77-a201-df37d7386f6e",
   "metadata": {},
   "outputs": [],
   "source": [
    "model.save('driver_action_model.h5')"
   ]
  }
 ],
 "metadata": {
  "kernelspec": {
   "display_name": "Python 3 (ipykernel)",
   "language": "python",
   "name": "python3"
  },
  "language_info": {
   "codemirror_mode": {
    "name": "ipython",
    "version": 3
   },
   "file_extension": ".py",
   "mimetype": "text/x-python",
   "name": "python",
   "nbconvert_exporter": "python",
   "pygments_lexer": "ipython3",
   "version": "3.9.6"
  }
 },
 "nbformat": 4,
 "nbformat_minor": 5
}
